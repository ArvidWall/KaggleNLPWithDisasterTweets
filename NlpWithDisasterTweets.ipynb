{
 "cells": [
  {
   "cell_type": "markdown",
   "metadata": {},
   "source": [
    "Useful reading:  \n",
    "The illustrated transformer: http://jalammar.github.io/illustrated-transformer/  \n",
    "Attention is all you need: https://arxiv.org/pdf/1706.03762.pdf  \n",
    "BERT: https://arxiv.org/pdf/1810.04805.pdf  \n",
    "A Visual Guide to Using BERT for the First Time: http://jalammar.github.io/a-visual-guide-to-using-bert-for-the-first-time/  \n",
    "Tensorflow hub: https://tfhub.dev/tensorflow/bert_en_uncased_L-12_H-768_A-12/2"
   ]
  },
  {
   "cell_type": "code",
   "execution_count": 132,
   "metadata": {},
   "outputs": [],
   "source": [
    "import pandas as pd\n",
    "from bert import tokenization\n",
    "import tensorflow_hub as hub\n",
    "import tensorflow as tf\n",
    "import numpy as np\n",
    "from tensorflow.keras import Model\n",
    "from tensorflow.keras.layers import Dense, Input\n",
    "from tensorflow import keras"
   ]
  },
  {
   "cell_type": "code",
   "execution_count": 133,
   "metadata": {},
   "outputs": [],
   "source": [
    "train_df = pd.read_csv(\"nlp-getting-started/train.csv\")"
   ]
  },
  {
   "cell_type": "code",
   "execution_count": 134,
   "metadata": {
    "scrolled": true
   },
   "outputs": [],
   "source": [
    "bert_layer = hub.KerasLayer(\"https://tfhub.dev/tensorflow/bert_en_uncased_L-12_H-768_A-12/2\", trainable = True)\n",
    "vocab_file = bert_layer.resolved_object.vocab_file.asset_path.numpy()\n",
    "do_lower_case = bert_layer.resolved_object.do_lower_case.numpy()\n",
    "tokenizer = tokenization.FullTokenizer(vocab_file, do_lower_case)"
   ]
  },
  {
   "cell_type": "code",
   "execution_count": 151,
   "metadata": {},
   "outputs": [],
   "source": [
    "input_ids = []\n",
    "sequence_ids = []\n",
    "attention_mask_ids = []\n",
    "max_len = 512\n",
    "for text in train_df.text:\n",
    "    input_tokens = tokenizer.tokenize(text)\n",
    "    input_tokens = ['[CLS]'] + input_tokens + ['[SEP]']\n",
    "    padding_len = max_len - len(input_tokens)\n",
    "    token_ids = tokenizer.convert_tokens_to_ids(input_tokens)\n",
    "    token_ids += [0] * padding_len\n",
    "    attention_mask = [1] * len(input_tokens) + [0] * padding_len\n",
    "    sequence = [1] * max_len\n",
    "    \n",
    "    attention_mask_ids.append(attention_mask)\n",
    "    sequence_ids.append(sequence)\n",
    "    input_ids.append(ids)\n",
    "\n",
    "    \n",
    "sequence_ids = np.array(sequence_ids)\n",
    "input_ids = np.array(input_ids)\n",
    "attention_mask_ids = np.array(attention_mask_ids)\n",
    "input_data = input_ids, attention_mask_ids, sequence_ids\n",
    "labels = np.array(train_df.target)"
   ]
  },
  {
   "cell_type": "code",
   "execution_count": 152,
   "metadata": {},
   "outputs": [],
   "source": [
    "max_seq_length = 512\n",
    "input_tokens_ids = Input(shape=(max_seq_length,), dtype=tf.int32, name=\"input_word_ids\")\n",
    "attention_mask_ids= Input(shape=(max_seq_length,), dtype=tf.int32, name=\"input_mask\")  \n",
    "sequence_ids = Input(shape=(max_seq_length,), dtype=tf.int32, name=\"segment_ids\")\n",
    "inputs = [input_tokens_ids, attention_mask_ids, sequence_ids]\n",
    "pooled_output, sequence_output = bert_layer(inputs)\n",
    "outputs = Dense(1, activation = 'sigmoid')(sequence_output[:, 0, :])\n",
    "\n",
    "opt = keras.optimizers.Adam(learning_rate = 0.01)\n",
    "model.compile(optimizer = opt, loss = 'binary_crossentropy', metric = 'accuracy')"
   ]
  },
  {
   "cell_type": "code",
   "execution_count": null,
   "metadata": {},
   "outputs": [
    {
     "name": "stdout",
     "output_type": "stream",
     "text": [
      "Train on 7613 samples\n"
     ]
    }
   ],
   "source": [
    "model.fit(input_data, labels, epochs = 1)"
   ]
  },
  {
   "cell_type": "code",
   "execution_count": null,
   "metadata": {},
   "outputs": [],
   "source": []
  }
 ],
 "metadata": {
  "kernelspec": {
   "display_name": "Python 3",
   "language": "python",
   "name": "python3"
  },
  "language_info": {
   "codemirror_mode": {
    "name": "ipython",
    "version": 3
   },
   "file_extension": ".py",
   "mimetype": "text/x-python",
   "name": "python",
   "nbconvert_exporter": "python",
   "pygments_lexer": "ipython3",
   "version": "3.7.4"
  }
 },
 "nbformat": 4,
 "nbformat_minor": 2
}
